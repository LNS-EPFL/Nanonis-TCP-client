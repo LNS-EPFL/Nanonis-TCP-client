{
 "cells": [
  {
   "cell_type": "code",
   "execution_count": 1,
   "metadata": {},
   "outputs": [
    {
     "name": "stdout",
     "output_type": "stream",
     "text": [
      "This text is in red.\n",
      "This text is in green.\n",
      "This text is in yellow.\n"
     ]
    }
   ],
   "source": [
    "import colorama\n",
    "from colorama import Fore, Back, Style\n",
    "\n",
    "# Initialize colorama to work with Windows (automatically adds ANSI color codes)\n",
    "colorama.init()\n",
    "\n",
    "print(Fore.RED + \"This text is in red.\")\n",
    "print(Fore.GREEN + \"This text is in green.\")\n",
    "print(Fore.YELLOW + \"This text is in yellow.\")"
   ]
  }
 ],
 "metadata": {
  "kernelspec": {
   "display_name": "Python 3",
   "language": "python",
   "name": "python3"
  },
  "language_info": {
   "codemirror_mode": {
    "name": "ipython",
    "version": 3
   },
   "file_extension": ".py",
   "mimetype": "text/x-python",
   "name": "python",
   "nbconvert_exporter": "python",
   "pygments_lexer": "ipython3",
   "version": "3.11.0"
  },
  "orig_nbformat": 4
 },
 "nbformat": 4,
 "nbformat_minor": 2
}
